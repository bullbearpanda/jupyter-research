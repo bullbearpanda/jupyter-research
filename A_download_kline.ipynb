{
 "cells": [
  {
   "cell_type": "code",
   "execution_count": 1,
   "metadata": {},
   "outputs": [],
   "source": [
    "import json\n",
    "import httpx\n",
    "import asyncio\n",
    "import pandas as pd\n",
    "\n",
    "from os import path, mkdir\n",
    "from datetime import datetime\n",
    "\n",
    "from toolkit.models import Timeframe\n",
    "from toolkit.exchanges import Binance"
   ]
  },
  {
   "cell_type": "code",
   "execution_count": 2,
   "metadata": {},
   "outputs": [],
   "source": [
    "binance = Binance()\n",
    "\n",
    "timeframe = Timeframe.MINUTLY\n",
    "binance_markets = [\"BTCUSDT\", \"ETHUSDT\", \"LTCUSDT\"]"
   ]
  },
  {
   "cell_type": "code",
   "execution_count": 3,
   "metadata": {},
   "outputs": [
    {
     "name": "stdout",
     "output_type": "stream",
     "text": [
      "Downloading markets...\n",
      "Finished downloading.\n"
     ]
    }
   ],
   "source": [
    "print(\"Downloading markets...\")\n",
    "kline_data = []\n",
    "async with httpx.AsyncClient() as client:\n",
    "    for symbol in binance_markets:\n",
    "        kline_data.append(binance.kline(client, symbol, timeframe))\n",
    "    kline_data = await asyncio.gather(*kline_data)\n",
    "    kline_data = dict(zip(binance_markets, kline_data))\n",
    "print(\"Finished downloading.\")"
   ]
  },
  {
   "cell_type": "code",
   "execution_count": 4,
   "metadata": {},
   "outputs": [],
   "source": [
    "data_path = path.join(\"data\")\n",
    "index_path = path.join(data_path, \"_index.json\")\n",
    "\n",
    "index = {}\n",
    "if path.isfile(index_path):\n",
    "    with open(index_path, \"r\") as f:\n",
    "        index = json.load(f)\n",
    "\n",
    "if len(index) == 0:\n",
    "    for symbol, trades in kline_data.items():\n",
    "        df = pd.DataFrame.from_dict(trades)\n",
    "        index[symbol] = df.iloc[-1][\"time\"].isoformat()\n",
    "\n",
    "        df.to_csv(path.join(data_path, f\"{symbol}_Kline_{timeframe.value}\"), index=False)\n",
    "    with open(index_path, \"w+\") as f:\n",
    "        json.dump(index, f)\n",
    "else:\n",
    "    for symbol, trades in kline_data.items():\n",
    "        df = pd.DataFrame.from_dict(trades)\n",
    "        new = df.copy()\n",
    "        \n",
    "        if symbol in index:\n",
    "            new = df[df[\"time\"] > index[symbol]]\n",
    "\n",
    "        if not new.empty:\n",
    "            new.to_csv(path.join(data_path, f\"{symbol}_Kline_{timeframe.value}\"), mode=\"a\", index=False, header=False)\n",
    "            index[symbol] = new.iloc[-1][\"time\"].isoformat()\n",
    "    with open(index_path, \"w\") as f:\n",
    "        json.dump(index, f)"
   ]
  }
 ],
 "metadata": {
  "kernelspec": {
   "display_name": "Python 3 (ipykernel)",
   "language": "python",
   "name": "python3"
  },
  "language_info": {
   "codemirror_mode": {
    "name": "ipython",
    "version": 3
   },
   "file_extension": ".py",
   "mimetype": "text/x-python",
   "name": "python",
   "nbconvert_exporter": "python",
   "pygments_lexer": "ipython3",
   "version": "3.11.0"
  }
 },
 "nbformat": 4,
 "nbformat_minor": 4
}
