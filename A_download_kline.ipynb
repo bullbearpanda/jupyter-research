{
 "cells": [
  {
   "cell_type": "code",
   "execution_count": 1,
   "metadata": {},
   "outputs": [],
   "source": [
    "import json\n",
    "import httpx\n",
    "import asyncio\n",
    "import pandas as pd\n",
    "\n",
    "from os import path\n",
    "from toolkit.models import Timeframe\n",
    "from toolkit.exchanges import Binance, Coinbase"
   ]
  },
  {
   "cell_type": "code",
   "execution_count": 2,
   "metadata": {},
   "outputs": [
    {
     "name": "stdout",
     "output_type": "stream",
     "text": [
      "Downloading markets...\n",
      "Finished downloading.\n"
     ]
    }
   ],
   "source": [
    "timeframe = Timeframe.MINUTLY\n",
    "exchanges = {\n",
    "    \"Binance\": {\n",
    "        \"client\": Binance(),\n",
    "        \"markets\": [\"BTCUSDT\", \"ETHUSDT\", \"LTCUSDT\", \"SOLUSDT\", \"ATOMUSDT\", \"XRPUSDT\"],\n",
    "        \"kline\": []\n",
    "    },\n",
    "    \"Coinbase\": {\n",
    "        \"client\": Coinbase(),\n",
    "        \"markets\": [\"BTC-USD\", \"ETH-USD\", \"LTC-USD\", \"SOL-USD\", \"ATOM-USD\", \"XRP-USD\"],\n",
    "        \"kline\": []\n",
    "    }\n",
    "}\n",
    "\n",
    "print(\"Downloading markets...\")\n",
    "async with httpx.AsyncClient() as client:\n",
    "    for _, para in exchanges.items():\n",
    "        for symbol in para[\"markets\"]:\n",
    "            para[\"kline\"].append(para[\"client\"].kline(client, symbol, timeframe))\n",
    "        para[\"kline\"] = await asyncio.gather(*para[\"kline\"])\n",
    "        para[\"kline\"] = dict(zip(para[\"markets\"], para[\"kline\"]))\n",
    "\n",
    "        for _, data in para[\"kline\"].items():\n",
    "            data.sort(key=lambda x: x.time)\n",
    "print(\"Finished downloading.\")"
   ]
  },
  {
   "cell_type": "code",
   "execution_count": 3,
   "metadata": {},
   "outputs": [],
   "source": [
    "data_path = path.join(\"data\")\n",
    "index_path = path.join(data_path, \"_index.json\")\n",
    "\n",
    "index = {}\n",
    "if path.isfile(index_path):\n",
    "    with open(index_path, \"r\") as f:\n",
    "        index = json.load(f)\n",
    "\n",
    "if len(index) == 0:\n",
    "    for exchange, para in exchanges.items():\n",
    "        index[exchange] = {}\n",
    "        for symbol, trades in para[\"kline\"].items():\n",
    "            df = pd.DataFrame.from_dict(trades)\n",
    "            index[exchange][symbol] = df.iloc[-1][\"time\"].isoformat()\n",
    "\n",
    "            df.to_csv(path.join(data_path, f\"{exchange}_{symbol}_Kline_{timeframe.value}.csv\"), index=False)\n",
    "    with open(index_path, \"w+\") as f:\n",
    "        json.dump(index, f)\n",
    "else:\n",
    "    for exchange, para in exchanges.items():\n",
    "        if exchange not in index:\n",
    "            index[exchange] = {}\n",
    "\n",
    "        for symbol, trades in para[\"kline\"].items():\n",
    "            df = pd.DataFrame.from_dict(trades)\n",
    "            new = df.copy()\n",
    "            \n",
    "            if symbol in index[exchange]:\n",
    "                new = df[df[\"time\"] > index[exchange][symbol]]\n",
    "\n",
    "            if not new.empty:\n",
    "                new.to_csv(path.join(data_path, f\"{exchange}_{symbol}_Kline_{timeframe.value}.csv\"), mode=\"a\", index=False, header=False)\n",
    "                index[exchange][symbol] = new.iloc[-1][\"time\"].isoformat()\n",
    "    with open(index_path, \"w\") as f:\n",
    "        json.dump(index, f)"
   ]
  }
 ],
 "metadata": {
  "kernelspec": {
   "display_name": "Python 3 (ipykernel)",
   "language": "python",
   "name": "python3"
  },
  "language_info": {
   "codemirror_mode": {
    "name": "ipython",
    "version": 3
   },
   "file_extension": ".py",
   "mimetype": "text/x-python",
   "name": "python",
   "nbconvert_exporter": "python",
   "pygments_lexer": "ipython3",
   "version": "3.11.6"
  }
 },
 "nbformat": 4,
 "nbformat_minor": 4
}
