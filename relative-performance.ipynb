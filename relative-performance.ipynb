{
 "cells": [
  {
   "cell_type": "code",
   "execution_count": 31,
   "metadata": {},
   "outputs": [],
   "source": [
    "import requests\n",
    "import pandas as pd\n",
    "import plotly.express as px\n",
    "\n",
    "from enum import Enum\n",
    "from decimal import Decimal\n",
    "from dataclasses import dataclass"
   ]
  },
  {
   "cell_type": "code",
   "execution_count": 44,
   "metadata": {},
   "outputs": [],
   "source": [
    "def get_bybit_spot():\n",
    "    baseurl = \"https://api.bybit.com\"\n",
    "    payload = { \"category\": \"spot\" }\n",
    "    r = requests.get(baseurl + \"/v5/market/tickers\", params=payload)\n",
    "    data = r.json()[\"result\"][\"list\"]\n",
    "\n",
    "    markets = []\n",
    "    for pair in data:\n",
    "        market = {\"symbol\" : pair[\"symbol\"], \"price\": Decimal(pair[\"lastPrice\"]), \"volume\": Decimal(pair[\"volume24h\"])}\n",
    "        markets.append(market)\n",
    "\n",
    "    for market in markets:\n",
    "        market[\"rvolume\"] = market[\"price\"] * market[\"volume\"]\n",
    "\n",
    "    markets.sort(key=lambda x: x.get(\"rvolume\"), reverse=True)\n",
    "    return markets\n",
    "    "
   ]
  },
  {
   "cell_type": "code",
   "execution_count": 13,
   "metadata": {},
   "outputs": [],
   "source": [
    "def get_bybit_futures():\n",
    "    baseurl = \"https://api.bybit.com\"\n",
    "    payload = { \"category\": \"linear\" }\n",
    "    r = requests.get(baseurl + \"/v5/market/tickers\", params=payload)\n",
    "    data = r.json()[\"result\"][\"list\"]\n",
    "\n",
    "    markets = []\n",
    "    for pair in data:\n",
    "        market = {\"symbol\" : pair[\"symbol\"], \"price\": Decimal(pair[\"lastPrice\"]), \"oi\": pair[\"openInterest\"], \"fr\": pair[\"fundingRate\"], \"volume\": Decimal(pair[\"volume24h\"])}\n",
    "        markets.append(market)\n",
    "\n",
    "    for market in markets:\n",
    "        market[\"rvolume\"] = market[\"price\"] * market[\"volume\"]\n",
    "\n",
    "    markets.sort(key=lambda x: x.get(\"rvolume\"), reverse=True)\n",
    "    return markets"
   ]
  },
  {
   "cell_type": "code",
   "execution_count": 39,
   "metadata": {},
   "outputs": [],
   "source": [
    "class Timeframe(Enum):\n",
    "    HOURLY = \"1h\"\n",
    "    DAILY = \"1d\"\n",
    "    WEEKLY = \"1w\"\n",
    "    MONTHLY = \"1M\"\n",
    "\n",
    "@dataclass\n",
    "class Candle:\n",
    "    time: int\n",
    "    open: Decimal\n",
    "    high: Decimal\n",
    "    low: Decimal\n",
    "    close: Decimal\n",
    "    volume: Decimal\n",
    "\n",
    "def exluded_markets(check: str, excluded: list[str]) -> bool:\n",
    "    if len(excluded) > 0:\n",
    "        for item in excluded:\n",
    "            if check.startswith(item) or check.endswith(item):\n",
    "                return True\n",
    "    return False\n",
    "\n",
    "class Binance():\n",
    "    BASEURL = \"https://api.binance.com\"\n",
    "\n",
    "    def __init__(self) -> None:\n",
    "        pass\n",
    "\n",
    "    def markets(self, market: str, exclude: list[str] = []) -> list[str]:\n",
    "        url = Binance.BASEURL + \"/api/v3/ticker/price\"\n",
    "        r = requests.get(url)\n",
    "        data = filter(lambda x: x.endswith(market) and not exluded_markets(x, exclude), map(lambda x: x.get(\"symbol\", \"\"), r.json()))\n",
    "        return list(data)\n",
    "\n",
    "    def kline(self, symbol: str, interval: Timeframe) -> list[Candle]:\n",
    "        url = Binance.BASEURL + \"/api/v3/klines\"\n",
    "        payload = { \"symbol\": symbol, \"interval\": interval.value }\n",
    "        r = requests.get(url)\n",
    "\n",
    "        klines = []\n",
    "        for kline in r.json():\n",
    "            candle = Candle(*kline[:6])\n",
    "            klines.append(candle)\n",
    "\n",
    "        return klines\n"
   ]
  },
  {
   "cell_type": "code",
   "execution_count": 40,
   "metadata": {},
   "outputs": [],
   "source": [
    "binance = Binance()\n",
    "markets = binance.markets(\"USDT\", [\"TUSD\", \"BUSD\", \"USDC\"])"
   ]
  }
 ],
 "metadata": {
  "kernelspec": {
   "display_name": "Python 3 (ipykernel)",
   "language": "python",
   "name": "python3"
  },
  "language_info": {
   "codemirror_mode": {
    "name": "ipython",
    "version": 3
   },
   "file_extension": ".py",
   "mimetype": "text/x-python",
   "name": "python",
   "nbconvert_exporter": "python",
   "pygments_lexer": "ipython3",
   "version": "3.11.0"
  },
  "orig_nbformat": 4
 },
 "nbformat": 4,
 "nbformat_minor": 2
}
