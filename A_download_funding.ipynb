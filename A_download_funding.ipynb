{
 "cells": [
  {
   "cell_type": "code",
   "execution_count": 2,
   "metadata": {},
   "outputs": [],
   "source": [
    "from toolkit.exchanges import Coinalyze"
   ]
  },
  {
   "cell_type": "code",
   "execution_count": null,
   "metadata": {},
   "outputs": [],
   "source": [
    "coinalyze = Coinalyze()\n",
    "coinalyze_markets = [\"BTCUSD_PERP.A\", \"ETHUSD_PERP.A\"]\n",
    "\n",
    "try:\n",
    "    coinalyze = Coinalyze()\n",
    "    spot = coinalyze.spot_markets()\n",
    "    futures = coinalyze.futures_markets()\n",
    "\n",
    "    oi = coinalyze.open_interest(coinalyze_markets)\n",
    "    fu = coinalyze.funding(coinalyze_markets)\n",
    "except KeyError as err:\n",
    "    print(err)"
   ]
  }
 ],
 "metadata": {
  "kernelspec": {
   "display_name": "Python 3 (ipykernel)",
   "language": "python",
   "name": "python3"
  },
  "language_info": {
   "codemirror_mode": {
    "name": "ipython",
    "version": 3
   },
   "file_extension": ".py",
   "mimetype": "text/x-python",
   "name": "python",
   "nbconvert_exporter": "python",
   "pygments_lexer": "ipython3",
   "version": "3.11.0"
  }
 },
 "nbformat": 4,
 "nbformat_minor": 4
}
