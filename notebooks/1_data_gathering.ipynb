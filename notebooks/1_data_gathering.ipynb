{
 "cells": [
  {
   "cell_type": "code",
   "execution_count": 1,
   "metadata": {},
   "outputs": [],
   "source": [
    "import shutil\n",
    "import requests\n",
    "import pandas as pd\n",
    "\n",
    "from enum import Enum\n",
    "from os import path, mkdir\n",
    "from decimal import Decimal\n",
    "from datetime import datetime\n",
    "from pydantic import ValidationError\n",
    "from pydantic.dataclasses import dataclass"
   ]
  },
  {
   "cell_type": "code",
   "execution_count": 2,
   "metadata": {},
   "outputs": [],
   "source": [
    "class Timeframe(Enum):\n",
    "    MINUTLY = \"5m\"\n",
    "    HOURLY = \"1h\"\n",
    "    DAILY = \"1d\"\n",
    "    WEEKLY = \"1w\"\n",
    "    MONTHLY = \"1M\"\n",
    "\n",
    "@dataclass\n",
    "class Candle:\n",
    "    time: datetime\n",
    "    open: Decimal\n",
    "    high: Decimal\n",
    "    low: Decimal\n",
    "    close: Decimal\n",
    "    volume: Decimal\n",
    "\n",
    "@dataclass\n",
    "class Ticker:\n",
    "    symbol: str\n",
    "    price: Decimal\n",
    "    volume: Decimal\n",
    "\n",
    "def highest_volume(tickers: list[Ticker]) -> list[Ticker]:\n",
    "    \"\"\"Sorts tickers based on volume and removes tickers with no volume.\"\"\"\n",
    "    filtered = filter(lambda x: x.price > 0 and x.volume > 0, tickers)\n",
    "    tickers = sorted(filtered, key=lambda x: x.price * x.volume, reverse=True)\n",
    "    return tickers\n",
    "\n",
    "def filter_symbols(market: str, tickers: list[Ticker], blacklist: list[str] = []) -> list[Ticker]:\n",
    "    \"\"\"Returns list of tickers denominated in the provided market, excluding symbols that are blacklisted.\"\"\"\n",
    "    filtered = filter(lambda x: x.symbol.endswith(market) and not blacklisted(x.symbol, blacklist), tickers)\n",
    "    return list(filtered)\n",
    "\n",
    "def blacklisted(symbol: str, blacklist: list[str]) -> bool:\n",
    "    \"\"\"Checks if a blacklisted symbol is part of a given market and returns True if it is.\"\"\"\n",
    "    if len(blacklist) > 0:\n",
    "        for item in blacklist:\n",
    "            if symbol.startswith(item) or symbol.endswith(item):\n",
    "                return True\n",
    "    return False\n",
    "\n",
    "class Binance():\n",
    "    BASEURL = \"https://api.binance.com\"\n",
    "    ENDPOINTS = {\n",
    "        \"ticker\": \"/api/v3/ticker/24hr\",\n",
    "        \"price\": \"/api/v3/ticker/price\",\n",
    "        \"kline\": \"/api/v3/klines\"\n",
    "    }\n",
    "\n",
    "    def __init__(self) -> None:\n",
    "        pass\n",
    "\n",
    "    def markets(self) -> list[Ticker]:\n",
    "        url = Binance.BASEURL + Binance.ENDPOINTS[\"ticker\"]\n",
    "        r = requests.get(url)\n",
    "\n",
    "        if r.status_code != 200:\n",
    "            raise requests.exceptions.HTTPError(r.json())\n",
    "\n",
    "        return list(map(lambda x: Ticker(x[\"symbol\"], x[\"lastPrice\"], x[\"volume\"]), r.json()))\n",
    "\n",
    "    def kline(self, symbol: str, interval: Timeframe) -> list[Candle]:\n",
    "        url = Binance.BASEURL + Binance.ENDPOINTS[\"kline\"]\n",
    "        payload = { \"symbol\": symbol, \"interval\": interval.value }\n",
    "        r = requests.get(url, params=payload)\n",
    "\n",
    "        if r.status_code != 200:\n",
    "            raise requests.exceptions.HTTPError(r.json())\n",
    "\n",
    "        klines = []\n",
    "        for kline in r.json():\n",
    "            candle = Candle(*kline[:6])\n",
    "            klines.append(candle)\n",
    "\n",
    "        return klines"
   ]
  },
  {
   "attachments": {},
   "cell_type": "markdown",
   "metadata": {},
   "source": [
    "**Data Selection**"
   ]
  },
  {
   "cell_type": "code",
   "execution_count": 3,
   "metadata": {},
   "outputs": [],
   "source": [
    "binance = Binance()\n",
    "markets = binance.markets()\n",
    "\n",
    "blacklist = [\"UPUSDT\", \"DOWNUSDT\", \"BEARUSDT\", \"BULLUSDT\"]\n",
    "stablecoins = [\"TUSD\", \"BUSD\", \"USDC\", \"PAX\", \"USDP\", \"DAI\", \"GUSD\", \"USDD\", \"USTC\", \"UST\", \"USDS\"]\n",
    "\n",
    "usdt_markets = filter_symbols(\"USDT\", markets, blacklist + stablecoins)\n",
    "usdt_volume = highest_volume(usdt_markets)\n",
    "\n",
    "btc_markets = filter_symbols(\"BTC\", markets)\n",
    "btc_volume = highest_volume(btc_markets)"
   ]
  },
  {
   "attachments": {},
   "cell_type": "markdown",
   "metadata": {},
   "source": [
    "**Data Download**\n",
    "\n",
    "Could be a lot faster with async and without sleep, but since downloading the data is not time critical it's more important to make sure to not hit the rate limits."
   ]
  },
  {
   "cell_type": "code",
   "execution_count": 4,
   "metadata": {},
   "outputs": [
    {
     "name": "stdout",
     "output_type": "stream",
     "text": [
      "Downloading 200 USDT markets...\n",
      "Finished downloading.\n"
     ]
    }
   ],
   "source": [
    "usdt_dl = usdt_volume[:200]\n",
    "btc_dl = btc_volume[:200]\n",
    "\n",
    "print(f\"Downloading {len(usdt_dl)} USDT markets...\")\n",
    "usdt_hourly = {}\n",
    "usdt_minutly = {}\n",
    "usdt_daily = {}\n",
    "for ticker in usdt_dl:\n",
    "    usdt_daily[ticker.symbol] = binance.kline(ticker.symbol, Timeframe.DAILY)\n",
    "    usdt_hourly[ticker.symbol] = binance.kline(ticker.symbol, Timeframe.HOURLY)\n",
    "    usdt_minutly[ticker.symbol] = binance.kline(ticker.symbol, Timeframe.MINUTLY)\n",
    "print(\"Finished downloading.\")"
   ]
  },
  {
   "attachments": {},
   "cell_type": "markdown",
   "metadata": {},
   "source": [
    "**Data Persistence**\n",
    "\n",
    "Execute to save the downloaded kline data into individual csv-files for each downloaded market."
   ]
  },
  {
   "cell_type": "code",
   "execution_count": 5,
   "metadata": {},
   "outputs": [],
   "source": [
    "data_path = path.join(\"..\", \"data\")\n",
    "\n",
    "if path.exists(data_path):\n",
    "    shutil.rmtree(data_path)\n",
    "\n",
    "mkdir(data_path)\n",
    "\n",
    "klines = {\n",
    "    Timeframe.MINUTLY: usdt_minutly,\n",
    "    Timeframe.HOURLY: usdt_hourly,\n",
    "    Timeframe.DAILY: usdt_daily\n",
    "}\n",
    "\n",
    "tickers = {\n",
    "    \"USDT\": usdt_dl,\n",
    "    \"BTC\": btc_dl\n",
    "}\n",
    "\n",
    "for ticker, data in tickers.items():\n",
    "    df = pd.DataFrame.from_dict(data)\n",
    "    df.to_csv(path.join(data_path, f\"{ticker}_markets.csv\"), index=False)\n",
    "\n",
    "for tf, data in klines.items():\n",
    "    for symbol, kline in data.items():\n",
    "        df = pd.DataFrame.from_dict(kline).set_index(\"time\")\n",
    "        df.to_csv(path.join(data_path, f\"{symbol}_{tf.name.lower()}.csv\"))\n",
    "\n",
    "# Remove data from memory\n",
    "df = None\n",
    "usdt_minutly = None\n",
    "usdt_hourly = None\n",
    "usdt_daily = None"
   ]
  }
 ],
 "metadata": {
  "kernelspec": {
   "display_name": "jupyter-research-_wIEtZVE-py3.11",
   "language": "python",
   "name": "python3"
  },
  "language_info": {
   "codemirror_mode": {
    "name": "ipython",
    "version": 3
   },
   "file_extension": ".py",
   "mimetype": "text/x-python",
   "name": "python",
   "nbconvert_exporter": "python",
   "pygments_lexer": "ipython3",
   "version": "3.11.0"
  },
  "orig_nbformat": 4
 },
 "nbformat": 4,
 "nbformat_minor": 2
}
