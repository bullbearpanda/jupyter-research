{
 "cells": [
  {
   "cell_type": "code",
   "execution_count": 14,
   "metadata": {},
   "outputs": [],
   "source": [
    "import time\n",
    "import shutil\n",
    "import requests\n",
    "import pandas as pd\n",
    "\n",
    "from enum import Enum\n",
    "from os import path, mkdir\n",
    "from decimal import Decimal\n",
    "from datetime import datetime\n",
    "from pydantic import ValidationError\n",
    "from pydantic.dataclasses import dataclass"
   ]
  },
  {
   "cell_type": "code",
   "execution_count": 15,
   "metadata": {},
   "outputs": [],
   "source": [
    "class Timeframe(Enum):\n",
    "    HOURLY = \"1h\"\n",
    "    DAILY = \"1d\"\n",
    "    WEEKLY = \"1w\"\n",
    "    MONTHLY = \"1M\"\n",
    "\n",
    "@dataclass\n",
    "class Candle:\n",
    "    time: datetime\n",
    "    open: Decimal\n",
    "    high: Decimal\n",
    "    low: Decimal\n",
    "    close: Decimal\n",
    "    volume: Decimal\n",
    "\n",
    "def exluded_symbols(market: str, symbols: list[str]) -> bool:\n",
    "    \"\"\"Checks if a excluded symbol is part of a given market and returns True if it is.\"\"\"\n",
    "    if len(symbols) > 0:\n",
    "        for item in symbols:\n",
    "            if market.startswith(item) or market.endswith(item):\n",
    "                return True\n",
    "    return False\n",
    "\n",
    "class Binance():\n",
    "    BASEURL = \"https://api.binance.com\"\n",
    "\n",
    "    def __init__(self) -> None:\n",
    "        pass\n",
    "\n",
    "    def markets(self, market: str, exclude: list[str] = []) -> list[str]:\n",
    "        url = Binance.BASEURL + \"/api/v3/ticker/price\"\n",
    "        r = requests.get(url)\n",
    "\n",
    "        if r.status_code != 200:\n",
    "            raise requests.exceptions.HTTPError(r.json())\n",
    "\n",
    "        data = filter(lambda x: x.endswith(market) and not exluded_symbols(x, exclude), map(lambda x: x.get(\"symbol\", \"\"), r.json()))\n",
    "        return list(data)\n",
    "\n",
    "    def kline(self, symbol: str, interval: Timeframe) -> list[Candle]:\n",
    "        url = Binance.BASEURL + \"/api/v3/klines\"\n",
    "        payload = { \"symbol\": symbol, \"interval\": interval.value }\n",
    "        r = requests.get(url, params=payload)\n",
    "\n",
    "        if r.status_code != 200:\n",
    "            raise requests.exceptions.HTTPError(r.json())\n",
    "\n",
    "        klines = []\n",
    "        for kline in r.json():\n",
    "            candle = Candle(*kline[:6])\n",
    "            klines.append(candle)\n",
    "\n",
    "        return klines"
   ]
  },
  {
   "attachments": {},
   "cell_type": "markdown",
   "metadata": {},
   "source": [
    "**Data Download**\n",
    "\n",
    "Could be a lot faster with async and without sleep, but since downloading the data is not time critical it's more important to make sure to not hit the rate limits."
   ]
  },
  {
   "cell_type": "code",
   "execution_count": 16,
   "metadata": {},
   "outputs": [
    {
     "name": "stdout",
     "output_type": "stream",
     "text": [
      "Downloading 386 markets...\n",
      "Finished downloading.\n"
     ]
    }
   ],
   "source": [
    "unwanted = [\"UPUSDT\", \"DOWNUSDT\", \"BEARUSDT\", \"BULLUSDT\"]\n",
    "stablecoins = [\"TUSD\", \"BUSD\", \"USDC\", \"PAX\", \"USDP\", \"DAI\", \"GUSD\", \"USDD\", \"USTC\", \"UST\", \"USDS\"]\n",
    "\n",
    "binance = Binance()\n",
    "markets = binance.markets(\"USDT\", unwanted + stablecoins)\n",
    "\n",
    "print(f\"Downloading {len(markets)} markets...\")\n",
    "market_data = {}\n",
    "tf = Timeframe.DAILY\n",
    "for i in range(len(markets)):\n",
    "    if i % 20 == 0:\n",
    "        time.sleep(5)\n",
    "    market = markets[i]\n",
    "    market_data[market] = binance.kline(market, Timeframe.DAILY)\n",
    "print(\"Finished downloading.\")"
   ]
  },
  {
   "attachments": {},
   "cell_type": "markdown",
   "metadata": {},
   "source": [
    "**Data Persistence**\n",
    "\n",
    "Execute to save the downloaded kline data into individual csv-files for each downloaded market."
   ]
  },
  {
   "cell_type": "code",
   "execution_count": 17,
   "metadata": {},
   "outputs": [],
   "source": [
    "data_path = path.join(\"..\", \"data\")\n",
    "\n",
    "if path.exists(data_path):\n",
    "    shutil.rmtree(data_path)\n",
    "\n",
    "mkdir(data_path)\n",
    "\n",
    "for market, data in market_data.items():\n",
    "    df = pd.DataFrame.from_dict(data).set_index(\"time\")\n",
    "    df.to_csv(path.join(data_path, f\"{market}_{tf.name.lower()}.csv\"))\n",
    "\n",
    "# Remove data from memory\n",
    "df = None\n",
    "market_data = None"
   ]
  }
 ],
 "metadata": {
  "kernelspec": {
   "display_name": "jupyter-research-_wIEtZVE-py3.11",
   "language": "python",
   "name": "python3"
  },
  "language_info": {
   "codemirror_mode": {
    "name": "ipython",
    "version": 3
   },
   "file_extension": ".py",
   "mimetype": "text/x-python",
   "name": "python",
   "nbconvert_exporter": "python",
   "pygments_lexer": "ipython3",
   "version": "3.11.0"
  },
  "orig_nbformat": 4
 },
 "nbformat": 4,
 "nbformat_minor": 2
}
