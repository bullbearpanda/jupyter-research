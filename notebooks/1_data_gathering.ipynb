{
 "cells": [
  {
   "attachments": {},
   "cell_type": "markdown",
   "metadata": {},
   "source": [
    "**Imports**"
   ]
  },
  {
   "cell_type": "code",
   "execution_count": 1,
   "metadata": {},
   "outputs": [],
   "source": [
    "import httpx\n",
    "import shutil\n",
    "import asyncio\n",
    "import pandas as pd\n",
    "\n",
    "from enum import Enum\n",
    "from os import path, mkdir, environ\n",
    "from decimal import Decimal\n",
    "from datetime import datetime\n",
    "from pydantic.dataclasses import dataclass"
   ]
  },
  {
   "attachments": {},
   "cell_type": "markdown",
   "metadata": {},
   "source": [
    "**Models**"
   ]
  },
  {
   "cell_type": "code",
   "execution_count": 2,
   "metadata": {},
   "outputs": [],
   "source": [
    "class Timeframe(Enum):\n",
    "    MINUTLY = \"5m\"\n",
    "    HOURLY = \"1h\"\n",
    "    DAILY = \"1d\"\n",
    "    WEEKLY = \"1w\"\n",
    "    MONTHLY = \"1M\"\n",
    "\n",
    "@dataclass\n",
    "class Candle:\n",
    "    time: datetime\n",
    "    open: Decimal\n",
    "    high: Decimal\n",
    "    low: Decimal\n",
    "    close: Decimal\n",
    "    volume: Decimal\n",
    "\n",
    "@dataclass\n",
    "class Ticker:\n",
    "    symbol: str\n",
    "    price: Decimal\n",
    "    volume: Decimal"
   ]
  },
  {
   "attachments": {},
   "cell_type": "markdown",
   "metadata": {},
   "source": [
    "**Utility**"
   ]
  },
  {
   "cell_type": "code",
   "execution_count": 3,
   "metadata": {},
   "outputs": [],
   "source": [
    "def highest_volume(tickers: list[Ticker]) -> list[Ticker]:\n",
    "    \"\"\"Sorts tickers based on volume and removes tickers with no volume.\"\"\"\n",
    "    filtered = filter(lambda x: x.price > 0 and x.volume > 0, tickers)\n",
    "    tickers = sorted(filtered, key=lambda x: x.price * x.volume, reverse=True)\n",
    "    return tickers\n",
    "\n",
    "def filter_symbols(market: str, tickers: list[Ticker], blacklist: list[str] = []) -> list[Ticker]:\n",
    "    \"\"\"Returns list of tickers denominated in the provided market, excluding symbols that are blacklisted.\"\"\"\n",
    "    filtered = filter(lambda x: x.symbol.endswith(market) and not blacklisted(x.symbol, blacklist), tickers)\n",
    "    return list(filtered)\n",
    "\n",
    "def blacklisted(symbol: str, blacklist: list[str]) -> bool:\n",
    "    \"\"\"Checks if a blacklisted symbol is part of a given market and returns True if it is.\"\"\"\n",
    "    if len(blacklist) > 0:\n",
    "        for item in blacklist:\n",
    "            if symbol.startswith(item) or symbol.endswith(item):\n",
    "                return True\n",
    "    return False"
   ]
  },
  {
   "attachments": {},
   "cell_type": "markdown",
   "metadata": {},
   "source": [
    "**Data Sources**"
   ]
  },
  {
   "cell_type": "code",
   "execution_count": 27,
   "metadata": {},
   "outputs": [],
   "source": [
    "class Coinalyze():\n",
    "    BASEURL = \"https://api.coinalyze.net\"\n",
    "    ENDPOINTS = {\n",
    "        \"spot\": \"/v1/spot-markets\",\n",
    "        \"future\": \"/v1/future-markets\",\n",
    "        \"openinterest\": \"/v1/open-interest\",\n",
    "        \"funding\": \"/v1/funding-rate\"\n",
    "    }\n",
    "\n",
    "    def __init__(self) -> None:\n",
    "        self.key = environ.get(\"COINALYZE\", \"\")\n",
    "        if self.key == \"\":\n",
    "            raise Exception(\"You need to provide a Coinalyze API key in a COINALYZE env variable!\")\n",
    "        \n",
    "    def spot_markets(self):\n",
    "        url = Coinalyze.BASEURL + Coinalyze.ENDPOINTS[\"spot\"]\n",
    "        headers = {\"api_key\" : self.key}\n",
    "        r = httpx.get(url, headers=headers)\n",
    "\n",
    "        if r.status_code != httpx.codes.OK:\n",
    "            raise httpx.HTTPError(r.json())\n",
    "        \n",
    "        return r.json()\n",
    "\n",
    "    def futures_markets(self):\n",
    "        url = Coinalyze.BASEURL + Coinalyze.ENDPOINTS[\"future\"]\n",
    "        headers = {\"api_key\" : self.key}\n",
    "        r = httpx.get(url, headers=headers)\n",
    "\n",
    "        if r.status_code != httpx.codes.OK:\n",
    "            raise httpx.HTTPError(r.json())\n",
    "        \n",
    "        return r.json()\n",
    "        \n",
    "    def open_interest(self, markets: list[str]):\n",
    "        if len(markets) > 20:\n",
    "            raise Exception(\"Coinalyze imposes a maximum of 20 markets per request!\")\n",
    "\n",
    "        url = Coinalyze.BASEURL + Coinalyze.ENDPOINTS[\"openinterest\"]\n",
    "        headers = { \"api_key\" : self.key }\n",
    "        payload = { \"symbols\": \",\".join(markets), \"convert_to_usd\": \"true\" }\n",
    "        r = httpx.get(url, headers=headers, params=payload)\n",
    "\n",
    "        if r.status_code != httpx.codes.OK:\n",
    "            raise httpx.HTTPError(r.json())\n",
    "        \n",
    "        return r.json()\n",
    "\n",
    "    def funding(self, markets: list[str]):\n",
    "        if len(markets) > 20:\n",
    "            raise Exception(\"Coinalyze imposes a maximum of 20 markets per request!\")\n",
    "\n",
    "        url = Coinalyze.BASEURL + Coinalyze.ENDPOINTS[\"funding\"]\n",
    "        headers = { \"api_key\" : self.key }\n",
    "        payload = { \"symbols\": \",\".join(markets) }\n",
    "        r = httpx.get(url, headers=headers, params=payload)\n",
    "\n",
    "        if r.status_code != httpx.codes.OK:\n",
    "            raise httpx.HTTPError(r.json())\n",
    "        \n",
    "        return r.json()\n",
    "\n",
    "class Binance():\n",
    "    BASEURL = \"https://api.binance.com\"\n",
    "    FUTURES = \"https://fapi.binance.com\"\n",
    "    ENDPOINTS = {\n",
    "        \"ticker\": \"/api/v3/ticker/24hr\",\n",
    "        \"price\": \"/api/v3/ticker/price\",\n",
    "        \"kline\": \"/api/v3/klines\"\n",
    "    }\n",
    "\n",
    "    def __init__(self) -> None:\n",
    "        pass\n",
    "\n",
    "    def markets(self) -> list[Ticker]:\n",
    "        url = Binance.BASEURL + Binance.ENDPOINTS[\"ticker\"]\n",
    "        r = httpx.get(url)\n",
    "\n",
    "        if r.status_code != httpx.codes.OK:\n",
    "            raise httpx.HTTPError(r.json())\n",
    "\n",
    "        return [Ticker(ticker[\"symbol\"], ticker[\"lastPrice\"], ticker[\"volume\"]) for ticker in r.json()]\n",
    "\n",
    "    async def kline(self, client: httpx.AsyncClient, symbol: str, interval: Timeframe) -> list[Candle]:\n",
    "        url = Binance.BASEURL + Binance.ENDPOINTS[\"kline\"]\n",
    "        payload = { \"symbol\": symbol, \"interval\": interval.value }\n",
    "        r = await client.get(url, params=payload)\n",
    "\n",
    "        if r.status_code != httpx.codes.OK:\n",
    "            raise httpx.HTTPError(r.json())\n",
    "\n",
    "        return [Candle(*kline[:6]) for kline in r.json()]"
   ]
  },
  {
   "cell_type": "code",
   "execution_count": 28,
   "metadata": {},
   "outputs": [],
   "source": [
    "coinalyze = Coinalyze()\n",
    "spot = coinalyze.spot_markets()\n",
    "futures = coinalyze.futures_markets()\n",
    "\n",
    "oi = coinalyze.open_interest([\"BTCUSD_PERP.A\", \"ETHUSD_PERP.A\"])\n",
    "fu = coinalyze.funding([\"BTCUSD_PERP.A\", \"ETHUSD_PERP.A\"])"
   ]
  },
  {
   "attachments": {},
   "cell_type": "markdown",
   "metadata": {},
   "source": [
    "**Data Selection**"
   ]
  },
  {
   "cell_type": "code",
   "execution_count": 5,
   "metadata": {},
   "outputs": [],
   "source": [
    "binance = Binance()\n",
    "markets = binance.markets()\n",
    "\n",
    "blacklist = [\"UPUSDT\", \"DOWNUSDT\", \"BEARUSDT\", \"BULLUSDT\"]\n",
    "currencies = [\"EUR\", \"JPY\", \"GBP\", \"CAD\", \"CNY\", \"CHF\", \"AUD\"]\n",
    "stablecoins = [\"TUSD\", \"BUSD\", \"USDC\", \"PAX\", \"USDP\", \"DAI\", \"GUSD\", \"USDD\", \"USTC\", \"UST\", \"USDS\"]\n",
    "\n",
    "usdt_markets = filter_symbols(\"USDT\", markets, blacklist + currencies + stablecoins)\n",
    "usdt_volume = highest_volume(usdt_markets)\n",
    "\n",
    "btc_markets = filter_symbols(\"BTC\", markets)\n",
    "btc_volume = highest_volume(btc_markets)"
   ]
  },
  {
   "attachments": {},
   "cell_type": "markdown",
   "metadata": {},
   "source": [
    "**Data Download**"
   ]
  },
  {
   "cell_type": "code",
   "execution_count": 6,
   "metadata": {},
   "outputs": [
    {
     "name": "stdout",
     "output_type": "stream",
     "text": [
      "Downloading 100 USDT markets...\n",
      "Finished downloading.\n"
     ]
    }
   ],
   "source": [
    "usdt_dl = usdt_volume[:100]\n",
    "btc_dl = btc_volume[:100]\n",
    "\n",
    "print(f\"Downloading {len(usdt_dl)} USDT markets...\")\n",
    "usdt_daily, usdt_hourly, usdt_minutly = [], [], []\n",
    "async with httpx.AsyncClient() as client:\n",
    "    usdt_symbols = [ticker.symbol for ticker in usdt_dl]\n",
    "    for symbol in usdt_symbols:\n",
    "        usdt_daily.append(binance.kline(client, symbol, Timeframe.DAILY))\n",
    "        usdt_hourly.append(binance.kline(client, symbol, Timeframe.HOURLY))\n",
    "        usdt_minutly.append(binance.kline(client, symbol, Timeframe.MINUTLY))\n",
    "    usdt_daily = await asyncio.gather(*usdt_daily)\n",
    "    usdt_hourly = await asyncio.gather(*usdt_hourly)\n",
    "    usdt_minutly = await asyncio.gather(*usdt_minutly)\n",
    "    usdt_daily = dict(zip(usdt_symbols, usdt_daily))\n",
    "    usdt_hourly = dict(zip(usdt_symbols, usdt_hourly))\n",
    "    usdt_minutly = dict(zip(usdt_symbols, usdt_minutly))\n",
    "print(\"Finished downloading.\")"
   ]
  },
  {
   "attachments": {},
   "cell_type": "markdown",
   "metadata": {},
   "source": [
    "**Data Persistence**\n",
    "\n",
    "Execute to save the downloaded kline data into individual csv-files for each downloaded market."
   ]
  },
  {
   "cell_type": "code",
   "execution_count": 7,
   "metadata": {},
   "outputs": [],
   "source": [
    "data_path = path.join(\"..\", \"data\")\n",
    "\n",
    "if path.exists(data_path):\n",
    "    shutil.rmtree(data_path)\n",
    "\n",
    "mkdir(data_path)\n",
    "\n",
    "klines = {\n",
    "    Timeframe.MINUTLY: usdt_minutly,\n",
    "    Timeframe.HOURLY: usdt_hourly\n",
    "}\n",
    "\n",
    "symbols = {\n",
    "    \"USDT\": usdt_dl,\n",
    "    \"BTC\": btc_dl\n",
    "}\n",
    "\n",
    "for symbol, data in symbols.items():\n",
    "    df = pd.DataFrame.from_dict(data)\n",
    "    df.to_csv(path.join(data_path, f\"{symbol}_markets.csv\"), index=False)\n",
    "\n",
    "for tf, data in klines.items():\n",
    "    for symbol, kline in data.items():\n",
    "        df = pd.DataFrame.from_dict(kline).set_index(\"time\")\n",
    "        df.to_csv(path.join(data_path, f\"{symbol}_{tf.name.lower()}.csv\"))\n",
    "\n",
    "# Remove data from memory\n",
    "df = None\n",
    "usdt_minutly = None\n",
    "usdt_hourly = None"
   ]
  }
 ],
 "metadata": {
  "kernelspec": {
   "display_name": "jupyter-research-_wIEtZVE-py3.11",
   "language": "python",
   "name": "python3"
  },
  "language_info": {
   "codemirror_mode": {
    "name": "ipython",
    "version": 3
   },
   "file_extension": ".py",
   "mimetype": "text/x-python",
   "name": "python",
   "nbconvert_exporter": "python",
   "pygments_lexer": "ipython3",
   "version": "3.11.0"
  },
  "orig_nbformat": 4
 },
 "nbformat": 4,
 "nbformat_minor": 2
}
