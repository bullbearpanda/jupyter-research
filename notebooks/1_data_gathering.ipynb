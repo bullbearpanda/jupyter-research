{
 "cells": [
  {
   "attachments": {},
   "cell_type": "markdown",
   "metadata": {},
   "source": [
    "**Imports**"
   ]
  },
  {
   "cell_type": "code",
   "execution_count": 15,
   "metadata": {},
   "outputs": [],
   "source": [
    "import httpx\n",
    "import shutil\n",
    "import asyncio\n",
    "import pandas as pd\n",
    "\n",
    "from os import path, mkdir\n",
    "from exchanges import Binance, Coinalyze\n",
    "from models import Ticker, Timeframe"
   ]
  },
  {
   "attachments": {},
   "cell_type": "markdown",
   "metadata": {},
   "source": [
    "**Utility**"
   ]
  },
  {
   "cell_type": "code",
   "execution_count": 16,
   "metadata": {},
   "outputs": [],
   "source": [
    "def highest_volume(tickers: list[Ticker]) -> list[Ticker]:\n",
    "    \"\"\"Sorts tickers based on volume and removes tickers with no volume.\"\"\"\n",
    "    filtered = filter(lambda x: x.price > 0 and x.volume > 0, tickers)\n",
    "    tickers = sorted(filtered, key=lambda x: x.price * x.volume, reverse=True)\n",
    "    return tickers\n",
    "\n",
    "def filter_symbols(market: str, tickers: list[Ticker], blacklist: list[str] = []) -> list[Ticker]:\n",
    "    \"\"\"Returns list of tickers denominated in the provided market, excluding symbols that are blacklisted.\"\"\"\n",
    "    filtered = filter(lambda x: x.symbol.endswith(market) and not blacklisted(x.symbol, blacklist), tickers)\n",
    "    return list(filtered)\n",
    "\n",
    "def blacklisted(symbol: str, blacklist: list[str]) -> bool:\n",
    "    \"\"\"Checks if a blacklisted symbol is part of a given market and returns True if it is.\"\"\"\n",
    "    if len(blacklist) > 0:\n",
    "        for item in blacklist:\n",
    "            if symbol.startswith(item) or symbol.endswith(item):\n",
    "                return True\n",
    "    return False"
   ]
  },
  {
   "attachments": {},
   "cell_type": "markdown",
   "metadata": {},
   "source": [
    "**Data Selection**"
   ]
  },
  {
   "cell_type": "code",
   "execution_count": 17,
   "metadata": {},
   "outputs": [],
   "source": [
    "binance = Binance()\n",
    "markets = binance.markets()\n",
    "\n",
    "blacklist = [\"UPUSDT\", \"DOWNUSDT\", \"BEARUSDT\", \"BULLUSDT\"]\n",
    "currencies = [\"EUR\", \"JPY\", \"GBP\", \"CAD\", \"CNY\", \"CHF\", \"AUD\"]\n",
    "stablecoins = [\"TUSD\", \"BUSD\", \"USDC\", \"PAX\", \"USDP\", \"DAI\", \"GUSD\", \"USDD\", \"USTC\", \"UST\", \"USDS\", \"FDUSD\"]\n",
    "\n",
    "usdt_markets = filter_symbols(\"USDT\", markets, blacklist + currencies + stablecoins)\n",
    "usdt_volume = highest_volume(usdt_markets)\n",
    "\n",
    "btc_markets = filter_symbols(\"BTC\", markets)\n",
    "btc_volume = highest_volume(btc_markets)\n",
    "\n",
    "binance_markets = [\"BTCUSDT\", \"ETHUSDT\"]\n",
    "coinalyze_markets = [\"BTCUSD_PERP.A\", \"ETHUSD_PERP.A\"]"
   ]
  },
  {
   "attachments": {},
   "cell_type": "markdown",
   "metadata": {},
   "source": [
    "**Data Download**"
   ]
  },
  {
   "cell_type": "code",
   "execution_count": 18,
   "metadata": {},
   "outputs": [
    {
     "name": "stdout",
     "output_type": "stream",
     "text": [
      "Downloading 100 markets...\n",
      "Finished downloading.\n"
     ]
    }
   ],
   "source": [
    "usdt_dl = usdt_volume[:100]\n",
    "\n",
    "print(f\"Downloading {len(usdt_dl)} markets...\")\n",
    "usdt_data = []\n",
    "async with httpx.AsyncClient() as client:\n",
    "    usdt_symbols = [ticker.symbol for ticker in usdt_dl]\n",
    "    for symbol in usdt_symbols:\n",
    "        usdt_data.append(binance.kline(client, symbol, Timeframe.MINUTLY, 1000))\n",
    "    usdt_data = await asyncio.gather(*usdt_data)\n",
    "    usdt_data = dict(zip(usdt_symbols, usdt_data))\n",
    "print(\"Finished downloading.\")"
   ]
  },
  {
   "cell_type": "code",
   "execution_count": 19,
   "metadata": {},
   "outputs": [],
   "source": [
    "try:\n",
    "    coinalyze = Coinalyze()\n",
    "    spot = coinalyze.spot_markets()\n",
    "    futures = coinalyze.futures_markets()\n",
    "\n",
    "    oi = coinalyze.open_interest(coinalyze_markets)\n",
    "    fu = coinalyze.funding(coinalyze_markets)\n",
    "except KeyError as err:\n",
    "    print(err)"
   ]
  },
  {
   "attachments": {},
   "cell_type": "markdown",
   "metadata": {},
   "source": [
    "**Data Persistence**\n",
    "\n",
    "Execute to save the downloaded kline data into individual csv-files for each downloaded market."
   ]
  },
  {
   "cell_type": "code",
   "execution_count": 20,
   "metadata": {},
   "outputs": [],
   "source": [
    "data_path = path.join(\"..\", \"data\")\n",
    "\n",
    "if path.exists(data_path):\n",
    "    shutil.rmtree(data_path)\n",
    "\n",
    "mkdir(data_path)\n",
    "\n",
    "symbols = {\n",
    "    \"USDT\": usdt_dl,\n",
    "    \"BTC\": btc_volume\n",
    "}\n",
    "\n",
    "for symbol, data in symbols.items():\n",
    "    df = pd.DataFrame.from_dict(data)\n",
    "    df.to_csv(path.join(data_path, f\"{symbol}_markets.csv\"), index=False)\n",
    "\n",
    "for symbol, kline in usdt_data.items():\n",
    "    df = pd.DataFrame.from_dict(kline).set_index(\"time\")\n",
    "    df.to_csv(path.join(data_path, f\"{symbol}.csv\"))\n",
    "\n",
    "# Remove data from memory\n",
    "df = None\n",
    "usdt_data = None"
   ]
  }
 ],
 "metadata": {
  "kernelspec": {
   "display_name": "jupyter-research-_wIEtZVE-py3.11",
   "language": "python",
   "name": "python3"
  },
  "language_info": {
   "codemirror_mode": {
    "name": "ipython",
    "version": 3
   },
   "file_extension": ".py",
   "mimetype": "text/x-python",
   "name": "python",
   "nbconvert_exporter": "python",
   "pygments_lexer": "ipython3",
   "version": "3.11.0"
  },
  "orig_nbformat": 4
 },
 "nbformat": 4,
 "nbformat_minor": 2
}
