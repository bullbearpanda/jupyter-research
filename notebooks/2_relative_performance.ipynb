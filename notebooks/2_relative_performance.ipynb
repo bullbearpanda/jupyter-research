{
 "cells": [
  {
   "attachments": {},
   "cell_type": "markdown",
   "metadata": {},
   "source": [
    "**Imports**"
   ]
  },
  {
   "cell_type": "code",
   "execution_count": 1,
   "metadata": {},
   "outputs": [],
   "source": [
    "import pandas as pd\n",
    "import plotly.express as px\n",
    "\n",
    "from os import path"
   ]
  },
  {
   "attachments": {},
   "cell_type": "markdown",
   "metadata": {},
   "source": [
    "**Utilities**"
   ]
  },
  {
   "cell_type": "code",
   "execution_count": 2,
   "metadata": {},
   "outputs": [],
   "source": [
    "def filter(lower: float, upper: float, df: pd.DataFrame) -> pd.DataFrame:\n",
    "    diff = (df < upper) & (df > lower)\n",
    "    return df.drop(columns=df.columns[diff.all()])\n",
    "\n",
    "def relative(symbol: str, df: pd.DataFrame, bm: pd.DataFrame) -> pd.DataFrame:\n",
    "    rel = df.reindex(bm.index, method=\"bfill\")\n",
    "    rel[symbol] = rel[\"close\"].div(bm[\"close\"] * rel[\"close\"][0]) * bm[\"close\"][0]\n",
    "    return rel\n",
    "\n",
    "def calc_relative(symbol: str, data: dict[str, pd.DataFrame]) -> pd.DataFrame:\n",
    "    bm = data[symbol]\n",
    "    rel = pd.DataFrame(index = bm.index)\n",
    "    buffer = []\n",
    "    for symbol, kline in data.items():\n",
    "        try:\n",
    "            df = relative(symbol, kline, bm)\n",
    "            buffer.append(df[symbol])\n",
    "        except TypeError:\n",
    "            print(f\"Error while processing {symbol}\")\n",
    "    rel = pd.concat(buffer, axis=1)\n",
    "    return rel"
   ]
  },
  {
   "attachments": {},
   "cell_type": "markdown",
   "metadata": {},
   "source": [
    "**Load Data**"
   ]
  },
  {
   "cell_type": "code",
   "execution_count": 3,
   "metadata": {},
   "outputs": [],
   "source": [
    "data_path = path.join(\"..\", \"data\")\n",
    "\n",
    "usdt_markets = pd.read_csv(path.join(data_path, \"USDT_markets.csv\"))\n",
    "btc_markets = pd.read_csv(path.join(data_path, \"BTC_markets.csv\"))\n",
    "\n",
    "usdt_minutly = {}\n",
    "usdt_hourly = {}\n",
    "\n",
    "for market in usdt_markets[\"symbol\"]:\n",
    "    usdt_minutly[market] = pd.read_csv(path.join(data_path, f\"{market}_minutly.csv\"), index_col=\"time\")\n",
    "    usdt_hourly[market] = pd.read_csv(path.join(data_path, f\"{market}_hourly.csv\"), index_col=\"time\")"
   ]
  },
  {
   "attachments": {},
   "cell_type": "markdown",
   "metadata": {},
   "source": [
    "**Calculate Relative Performance**"
   ]
  },
  {
   "cell_type": "code",
   "execution_count": 4,
   "metadata": {},
   "outputs": [],
   "source": [
    "intra = {k: v[-96:] for k, v in usdt_minutly.items()}\n",
    "day = {k: v[-24:] for k, v in usdt_hourly.items()}\n",
    "week = {k: v[(-24*7):] for k, v in usdt_hourly.items()}\n",
    "\n",
    "rel_intra = calc_relative(\"BTCUSDT\", intra)\n",
    "rel_day = calc_relative(\"BTCUSDT\", day)\n",
    "rel_week = calc_relative(\"BTCUSDT\", week)\n",
    "rel_month = calc_relative(\"BTCUSDT\", usdt_hourly)\n",
    "\n",
    "rel_intra = filter(0.95, 1.05, rel_intra)\n",
    "rel_day = filter(0.90, 1.10, rel_day)\n",
    "rel_week = filter(0.85, 1.15, rel_week)\n",
    "rel_month = filter(0.70, 1.30, rel_month)"
   ]
  },
  {
   "attachments": {},
   "cell_type": "markdown",
   "metadata": {},
   "source": [
    "**Plotting**"
   ]
  },
  {
   "cell_type": "code",
   "execution_count": null,
   "metadata": {},
   "outputs": [],
   "source": [
    "fig_i = px.line(rel_intra, x = rel_intra.index, y = rel_intra.columns)\n",
    "fig_d = px.line(rel_day, x = rel_day.index, y = rel_day.columns)\n",
    "fig_w = px.line(rel_week, x = rel_week.index, y = rel_week.columns)\n",
    "fig_m = px.line(rel_month, x = rel_month.index, y = rel_month.columns)\n",
    "\n",
    "fig_i.show()\n",
    "fig_d.show()\n",
    "fig_w.show()\n",
    "fig_m.show()"
   ]
  },
  {
   "cell_type": "code",
   "execution_count": null,
   "metadata": {},
   "outputs": [],
   "source": [
    "a = rel_intra.mean().dropna().sort_values()\n",
    "b = rel_day.mean().dropna().sort_values()\n",
    "c = rel_week.mean().dropna().sort_values()\n",
    "d = rel_month.mean().dropna().sort_values()\n",
    "\n",
    "fig_i = px.bar(a, x = a.index, y = a-1)\n",
    "fig_d = px.bar(b, x = b.index, y = b-1)\n",
    "fig_w = px.bar(c, x = c.index, y = c-1)\n",
    "fig_m = px.bar(d, x = d.index, y = d-1)\n",
    "\n",
    "fig_i.show()\n",
    "fig_d.show()\n",
    "fig_w.show()\n",
    "fig_m.show()"
   ]
  }
 ],
 "metadata": {
  "kernelspec": {
   "display_name": "Python 3 (ipykernel)",
   "language": "python",
   "name": "python3"
  },
  "language_info": {
   "codemirror_mode": {
    "name": "ipython",
    "version": 3
   },
   "file_extension": ".py",
   "mimetype": "text/x-python",
   "name": "python",
   "nbconvert_exporter": "python",
   "pygments_lexer": "ipython3",
   "version": "3.11.0"
  },
  "orig_nbformat": 4
 },
 "nbformat": 4,
 "nbformat_minor": 2
}
