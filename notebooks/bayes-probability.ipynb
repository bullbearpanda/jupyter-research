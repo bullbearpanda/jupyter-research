{
 "cells": [
  {
   "cell_type": "code",
   "execution_count": null,
   "metadata": {},
   "outputs": [],
   "source": [
    "import numpy as np\n",
    "import pandas as pd"
   ]
  },
  {
   "cell_type": "code",
   "execution_count": null,
   "metadata": {},
   "outputs": [],
   "source": [
    "def expectancy(win_rate, avg_win, avg_loss):\n",
    "    return win_rate * avg_win + (1 - win_rate) * avg_loss\n",
    "\n",
    "def george(win_rate, avg_win, avg_loss):\n",
    "    return (1 + avg_win)**win_rate * (1 + avg_loss)**(1 - win_rate) - 1\n",
    "\n",
    "def kelly(win_rate, avg_win, avg_loss):\n",
    "    return win_rate / np.abs(avg_loss) - (1 - win_rate) / avg_win"
   ]
  },
  {
   "cell_type": "code",
   "execution_count": null,
   "metadata": {},
   "outputs": [],
   "source": [
    "def prob(proposition):\n",
    "    \"\"\"Computes the probability of a proposition, A.\"\"\"\n",
    "    return proposition.mean()\n",
    "\n",
    "def conditional(proposition, given):\n",
    "    \"\"\"Computes the conditional probability of A given B.\"\"\"\n",
    "    return prob(proposition[given])"
   ]
  }
 ],
 "metadata": {
  "kernelspec": {
   "display_name": "jupyter-research-_wIEtZVE-py3.11",
   "language": "python",
   "name": "python3"
  },
  "language_info": {
   "codemirror_mode": {
    "name": "ipython",
    "version": 3
   },
   "file_extension": ".py",
   "mimetype": "text/x-python",
   "name": "python",
   "nbconvert_exporter": "python",
   "pygments_lexer": "ipython3",
   "version": "3.11.0"
  },
  "orig_nbformat": 4
 },
 "nbformat": 4,
 "nbformat_minor": 2
}
