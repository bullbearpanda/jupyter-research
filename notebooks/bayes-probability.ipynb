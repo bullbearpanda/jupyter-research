{
 "cells": [
  {
   "cell_type": "code",
   "execution_count": null,
   "metadata": {},
   "outputs": [],
   "source": [
    "import pandas as pd"
   ]
  },
  {
   "cell_type": "code",
   "execution_count": null,
   "metadata": {},
   "outputs": [],
   "source": [
    "def prob(proposition):\n",
    "    \"\"\"Computes the probability of a proposition, A.\"\"\"\n",
    "    return proposition.mean()\n",
    "\n",
    "def conditional(proposition, given):\n",
    "    \"\"\"Computes the conditional probability of A given B.\"\"\"\n",
    "    return prob(proposition[given])"
   ]
  }
 ],
 "metadata": {
  "kernelspec": {
   "display_name": "jupyter-research-_wIEtZVE-py3.11",
   "language": "python",
   "name": "python3"
  },
  "language_info": {
   "name": "python",
   "version": "3.11.0"
  },
  "orig_nbformat": 4
 },
 "nbformat": 4,
 "nbformat_minor": 2
}
