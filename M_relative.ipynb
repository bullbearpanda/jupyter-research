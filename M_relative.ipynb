{
 "cells": [
  {
   "attachments": {},
   "cell_type": "markdown",
   "metadata": {},
   "source": [
    "**Imports**"
   ]
  },
  {
   "cell_type": "code",
   "execution_count": 24,
   "metadata": {},
   "outputs": [],
   "source": [
    "import httpx\n",
    "import asyncio\n",
    "import pandas as pd\n",
    "import plotly.express as px\n",
    "\n",
    "from os import path\n",
    "from toolkit.models import Ticker, Timeframe\n",
    "from toolkit.exchanges import Binance"
   ]
  },
  {
   "attachments": {},
   "cell_type": "markdown",
   "metadata": {},
   "source": [
    "**Utilities**"
   ]
  },
  {
   "cell_type": "code",
   "execution_count": 25,
   "metadata": {},
   "outputs": [],
   "source": [
    "def highest_volume(tickers: list[Ticker]) -> list[Ticker]:\n",
    "    \"\"\"Sorts tickers based on volume and removes tickers with no volume.\"\"\"\n",
    "    filtered = filter(lambda x: x.price > 0 and x.volume > 0, tickers)\n",
    "    tickers = sorted(filtered, key=lambda x: x.price * x.volume, reverse=True)\n",
    "    return tickers\n",
    "\n",
    "def filter_symbols(market: str, tickers: list[Ticker], blacklist: list[str] = []) -> list[Ticker]:\n",
    "    \"\"\"Returns list of tickers denominated in the provided market, excluding symbols that are blacklisted.\"\"\"\n",
    "    filtered = filter(lambda x: x.symbol.endswith(market) and not blacklisted(x.symbol, blacklist), tickers)\n",
    "    return list(filtered)\n",
    "\n",
    "def blacklisted(symbol: str, blacklist: list[str]) -> bool:\n",
    "    \"\"\"Checks if a blacklisted symbol is part of a given market and returns True if it is.\"\"\"\n",
    "    if len(blacklist) > 0:\n",
    "        for item in blacklist:\n",
    "            if symbol.startswith(item) or symbol.endswith(item):\n",
    "                return True\n",
    "    return False\n",
    "\n",
    "def crop(lower: float, upper: float, df: pd.DataFrame) -> pd.DataFrame:\n",
    "    diff = (df < upper) & (df > lower)\n",
    "    return df.drop(columns=df.columns[diff.all()])\n",
    "\n",
    "def relative(symbol: str, df: pd.DataFrame, bm: pd.DataFrame) -> pd.DataFrame:\n",
    "    rel = df.reindex(bm.index, method=\"bfill\")\n",
    "    rel[symbol] = rel[\"close\"].div(bm[\"close\"] * rel[\"close\"].iloc[0]) * bm[\"close\"].iloc[0]\n",
    "    return rel\n",
    "\n",
    "def calc_relative(symbol: str, data: dict[str, pd.DataFrame]) -> pd.DataFrame:\n",
    "    bm = data[symbol]\n",
    "    rel = pd.DataFrame(index = bm.index)\n",
    "    buffer = []\n",
    "    for symbol, kline in data.items():\n",
    "        try:\n",
    "            df = relative(symbol, kline, bm)\n",
    "            buffer.append(df[symbol])\n",
    "        except TypeError:\n",
    "            print(f\"Error while processing {symbol}\")\n",
    "    rel = pd.concat(buffer, axis=1)\n",
    "    return rel"
   ]
  },
  {
   "attachments": {},
   "cell_type": "markdown",
   "metadata": {},
   "source": [
    "**Load Data**"
   ]
  },
  {
   "cell_type": "code",
   "execution_count": 26,
   "metadata": {},
   "outputs": [
    {
     "name": "stdout",
     "output_type": "stream",
     "text": [
      "Downloading 100 markets...\n",
      "Finished downloading.\n"
     ]
    }
   ],
   "source": [
    "binance = Binance()\n",
    "markets = binance.markets()\n",
    "\n",
    "blacklist = [\"UPUSDT\", \"DOWNUSDT\", \"BEARUSDT\", \"BULLUSDT\"]\n",
    "currencies = [\"EUR\", \"JPY\", \"GBP\", \"CAD\", \"CNY\", \"CHF\", \"AUD\"]\n",
    "stablecoins = [\"TUSD\", \"BUSD\", \"USDC\", \"PAX\", \"USDP\", \"DAI\", \"GUSD\", \"USDD\", \"USTC\", \"UST\", \"USDS\", \"FDUSD\"]\n",
    "\n",
    "usdt_markets = filter_symbols(\"USDT\", markets, blacklist + currencies + stablecoins)\n",
    "usdt_volume = highest_volume(usdt_markets)\n",
    "\n",
    "btc_markets = filter_symbols(\"BTC\", markets)\n",
    "btc_volume = highest_volume(btc_markets)\n",
    "\n",
    "usdt_dl = usdt_volume[:100]\n",
    "\n",
    "print(f\"Downloading {len(usdt_dl)} markets...\")\n",
    "usdt_data = []\n",
    "async with httpx.AsyncClient() as client:\n",
    "    usdt_symbols = [ticker.symbol for ticker in usdt_dl]\n",
    "    for symbol in usdt_symbols:\n",
    "        usdt_data.append(binance.kline(client, symbol, Timeframe.MINUTLY, 1000))\n",
    "    usdt_data = await asyncio.gather(*usdt_data)\n",
    "    usdt_data = dict(zip(usdt_symbols, usdt_data))\n",
    "print(\"Finished downloading.\")"
   ]
  },
  {
   "cell_type": "markdown",
   "metadata": {},
   "source": [
    "**Sessions**"
   ]
  },
  {
   "cell_type": "code",
   "execution_count": 27,
   "metadata": {},
   "outputs": [],
   "source": [
    "usdt_df = {k: pd.DataFrame.from_dict(v).set_index(\"time\") for k, v in usdt_data.items()}\n",
    "\n",
    "apac_session = {k: v.between_time(\"00:00\", \"06:00\") for k, v in usdt_df.items()}\n",
    "us_session = {k: v.between_time(\"13:30\", \"17:00\") for k, v in usdt_df.items()}\n",
    "eu_session = {k: v.between_time(\"07:00\", \"15:30\") for k, v in usdt_df.items()}"
   ]
  },
  {
   "attachments": {},
   "cell_type": "markdown",
   "metadata": {},
   "source": [
    "**Calculate Relative Performance**"
   ]
  },
  {
   "cell_type": "code",
   "execution_count": 28,
   "metadata": {},
   "outputs": [],
   "source": [
    "rel_apac = calc_relative(\"BTCUSDT\", apac_session)\n",
    "rel_apac = crop(0.95, 1.05, rel_apac)\n",
    "rel_eu = calc_relative(\"BTCUSDT\", eu_session)\n",
    "rel_eu = crop(0.95, 1.05, rel_eu)"
   ]
  },
  {
   "attachments": {},
   "cell_type": "markdown",
   "metadata": {},
   "source": [
    "**Plotting**"
   ]
  },
  {
   "cell_type": "code",
   "execution_count": null,
   "metadata": {},
   "outputs": [],
   "source": [
    "fig_apac = px.line(rel_apac, x = rel_apac.index, y = rel_apac.columns)\n",
    "fig_apac.show()"
   ]
  },
  {
   "cell_type": "code",
   "execution_count": null,
   "metadata": {},
   "outputs": [],
   "source": [
    "fig_eu = px.line(rel_eu, x = rel_eu.index, y = rel_eu.columns)\n",
    "fig_eu.show()"
   ]
  }
 ],
 "metadata": {
  "kernelspec": {
   "display_name": "Python 3 (ipykernel)",
   "language": "python",
   "name": "python3"
  },
  "language_info": {
   "codemirror_mode": {
    "name": "ipython",
    "version": 3
   },
   "file_extension": ".py",
   "mimetype": "text/x-python",
   "name": "python",
   "nbconvert_exporter": "python",
   "pygments_lexer": "ipython3",
   "version": "3.11.0"
  },
  "orig_nbformat": 4
 },
 "nbformat": 4,
 "nbformat_minor": 2
}
