{
 "cells": [
  {
   "cell_type": "code",
   "execution_count": 1,
   "metadata": {},
   "outputs": [
    {
     "data": {
      "text/html": [
       "<span style=\"None\">The &#x27;toml&#x27; package isn&#x27;t installed. To load settings from the pyproject.toml file, install with: pip install toml</span>"
      ],
      "text/plain": [
       "The 'toml' package isn't installed. To load settings from the pyproject.toml file, install with: pip install toml"
      ]
     },
     "metadata": {},
     "output_type": "display_data"
    }
   ],
   "source": [
    "import duckdb\n",
    "import numpy as np\n",
    "import pandas as pd\n",
    "\n",
    "from os import path\n",
    "\n",
    "%load_ext sql\n",
    "\n",
    "%config SqlMagic.autopandas = True\n",
    "%config SqlMagic.feedback = False\n",
    "%config SqlMagic.displaycon = False\n",
    "\n",
    "%sql duckdb:///:default:"
   ]
  },
  {
   "cell_type": "code",
   "execution_count": 2,
   "metadata": {},
   "outputs": [],
   "source": [
    "def expectancy(win_rate, avg_win, avg_loss) -> float:\n",
    "    return win_rate * avg_win + (1 - win_rate) * avg_loss\n",
    "\n",
    "def george(win_rate, avg_win, avg_loss) -> float:\n",
    "    return (1 + avg_win)**win_rate * (1 + avg_loss)**(1 - win_rate) - 1\n",
    "\n",
    "def kelly(win_rate, avg_win, avg_loss)-> float:\n",
    "    return win_rate / np.abs(avg_loss) - (1 - win_rate) / avg_win"
   ]
  },
  {
   "cell_type": "code",
   "execution_count": 3,
   "metadata": {},
   "outputs": [],
   "source": [
    "def prob(proposition):\n",
    "    \"\"\"Computes the probability of a proposition, A.\"\"\"\n",
    "    return proposition.mean()\n",
    "\n",
    "def conditional(proposition, given):\n",
    "    \"\"\"Computes the conditional probability of A given B.\"\"\"\n",
    "    return prob(proposition[given])"
   ]
  },
  {
   "cell_type": "code",
   "execution_count": 4,
   "metadata": {},
   "outputs": [
    {
     "data": {
      "text/html": [
       "<div>\n",
       "<style scoped>\n",
       "    .dataframe tbody tr th:only-of-type {\n",
       "        vertical-align: middle;\n",
       "    }\n",
       "\n",
       "    .dataframe tbody tr th {\n",
       "        vertical-align: top;\n",
       "    }\n",
       "\n",
       "    .dataframe thead th {\n",
       "        text-align: right;\n",
       "    }\n",
       "</style>\n",
       "<table border=\"1\" class=\"dataframe\">\n",
       "  <thead>\n",
       "    <tr style=\"text-align: right;\">\n",
       "      <th></th>\n",
       "      <th>Count</th>\n",
       "    </tr>\n",
       "  </thead>\n",
       "  <tbody>\n",
       "    <tr>\n",
       "      <th>0</th>\n",
       "      <td>19796</td>\n",
       "    </tr>\n",
       "  </tbody>\n",
       "</table>\n",
       "</div>"
      ],
      "text/plain": [
       "   Count\n",
       "0  19796"
      ]
     },
     "execution_count": 4,
     "metadata": {},
     "output_type": "execute_result"
    }
   ],
   "source": [
    "%sql CREATE TABLE btcusdt AS SELECT * FROM read_csv_auto(\"data/Binance_BTCUSDT_Kline_1m.csv\");\n",
    "%sql CREATE TABLE ethusdt AS SELECT * FROM read_csv_auto(\"data/Binance_ETHUSDT_Kline_1m.csv\");\n",
    "%sql CREATE TABLE solusdt AS SELECT * FROM read_csv_auto(\"data/Binance_SOLUSDT_Kline_1m.csv\");"
   ]
  },
  {
   "cell_type": "code",
   "execution_count": 5,
   "metadata": {},
   "outputs": [],
   "source": [
    "%sql df << SELECT * FROM btcusdt"
   ]
  },
  {
   "cell_type": "code",
   "execution_count": 6,
   "metadata": {},
   "outputs": [
    {
     "data": {
      "text/html": [
       "<div>\n",
       "<style scoped>\n",
       "    .dataframe tbody tr th:only-of-type {\n",
       "        vertical-align: middle;\n",
       "    }\n",
       "\n",
       "    .dataframe tbody tr th {\n",
       "        vertical-align: top;\n",
       "    }\n",
       "\n",
       "    .dataframe thead th {\n",
       "        text-align: right;\n",
       "    }\n",
       "</style>\n",
       "<table border=\"1\" class=\"dataframe\">\n",
       "  <thead>\n",
       "    <tr style=\"text-align: right;\">\n",
       "      <th></th>\n",
       "      <th>time</th>\n",
       "      <th>open</th>\n",
       "      <th>high</th>\n",
       "      <th>low</th>\n",
       "      <th>close</th>\n",
       "      <th>volume</th>\n",
       "    </tr>\n",
       "  </thead>\n",
       "  <tbody>\n",
       "    <tr>\n",
       "      <th>0</th>\n",
       "      <td>2023-10-12 05:17:00</td>\n",
       "      <td>26786.34</td>\n",
       "      <td>26796.14</td>\n",
       "      <td>26786.33</td>\n",
       "      <td>26796.14</td>\n",
       "      <td>8.51243</td>\n",
       "    </tr>\n",
       "    <tr>\n",
       "      <th>1</th>\n",
       "      <td>2023-10-12 05:18:00</td>\n",
       "      <td>26796.13</td>\n",
       "      <td>26796.14</td>\n",
       "      <td>26792.51</td>\n",
       "      <td>26794.14</td>\n",
       "      <td>10.70889</td>\n",
       "    </tr>\n",
       "    <tr>\n",
       "      <th>2</th>\n",
       "      <td>2023-10-12 05:19:00</td>\n",
       "      <td>26794.15</td>\n",
       "      <td>26794.15</td>\n",
       "      <td>26791.07</td>\n",
       "      <td>26791.07</td>\n",
       "      <td>6.30048</td>\n",
       "    </tr>\n",
       "    <tr>\n",
       "      <th>3</th>\n",
       "      <td>2023-10-12 05:20:00</td>\n",
       "      <td>26791.08</td>\n",
       "      <td>26795.03</td>\n",
       "      <td>26791.07</td>\n",
       "      <td>26795.03</td>\n",
       "      <td>4.05816</td>\n",
       "    </tr>\n",
       "    <tr>\n",
       "      <th>4</th>\n",
       "      <td>2023-10-12 05:21:00</td>\n",
       "      <td>26795.03</td>\n",
       "      <td>26795.03</td>\n",
       "      <td>26795.02</td>\n",
       "      <td>26795.03</td>\n",
       "      <td>3.24917</td>\n",
       "    </tr>\n",
       "    <tr>\n",
       "      <th>...</th>\n",
       "      <td>...</td>\n",
       "      <td>...</td>\n",
       "      <td>...</td>\n",
       "      <td>...</td>\n",
       "      <td>...</td>\n",
       "      <td>...</td>\n",
       "    </tr>\n",
       "    <tr>\n",
       "      <th>27174</th>\n",
       "      <td>2023-10-31 02:11:00</td>\n",
       "      <td>34400.01</td>\n",
       "      <td>34437.25</td>\n",
       "      <td>34400.01</td>\n",
       "      <td>34437.25</td>\n",
       "      <td>30.87703</td>\n",
       "    </tr>\n",
       "    <tr>\n",
       "      <th>27175</th>\n",
       "      <td>2023-10-31 02:12:00</td>\n",
       "      <td>34437.25</td>\n",
       "      <td>34441.88</td>\n",
       "      <td>34415.13</td>\n",
       "      <td>34415.14</td>\n",
       "      <td>21.75899</td>\n",
       "    </tr>\n",
       "    <tr>\n",
       "      <th>27176</th>\n",
       "      <td>2023-10-31 02:13:00</td>\n",
       "      <td>34415.13</td>\n",
       "      <td>34422.90</td>\n",
       "      <td>34415.13</td>\n",
       "      <td>34422.89</td>\n",
       "      <td>8.59706</td>\n",
       "    </tr>\n",
       "    <tr>\n",
       "      <th>27177</th>\n",
       "      <td>2023-10-31 02:14:00</td>\n",
       "      <td>34422.89</td>\n",
       "      <td>34422.90</td>\n",
       "      <td>34418.87</td>\n",
       "      <td>34418.88</td>\n",
       "      <td>11.03563</td>\n",
       "    </tr>\n",
       "    <tr>\n",
       "      <th>27178</th>\n",
       "      <td>2023-10-31 02:15:00</td>\n",
       "      <td>34418.87</td>\n",
       "      <td>34418.88</td>\n",
       "      <td>34416.98</td>\n",
       "      <td>34416.98</td>\n",
       "      <td>2.05760</td>\n",
       "    </tr>\n",
       "  </tbody>\n",
       "</table>\n",
       "<p>27179 rows × 6 columns</p>\n",
       "</div>"
      ],
      "text/plain": [
       "                     time      open      high       low     close    volume\n",
       "0     2023-10-12 05:17:00  26786.34  26796.14  26786.33  26796.14   8.51243\n",
       "1     2023-10-12 05:18:00  26796.13  26796.14  26792.51  26794.14  10.70889\n",
       "2     2023-10-12 05:19:00  26794.15  26794.15  26791.07  26791.07   6.30048\n",
       "3     2023-10-12 05:20:00  26791.08  26795.03  26791.07  26795.03   4.05816\n",
       "4     2023-10-12 05:21:00  26795.03  26795.03  26795.02  26795.03   3.24917\n",
       "...                   ...       ...       ...       ...       ...       ...\n",
       "27174 2023-10-31 02:11:00  34400.01  34437.25  34400.01  34437.25  30.87703\n",
       "27175 2023-10-31 02:12:00  34437.25  34441.88  34415.13  34415.14  21.75899\n",
       "27176 2023-10-31 02:13:00  34415.13  34422.90  34415.13  34422.89   8.59706\n",
       "27177 2023-10-31 02:14:00  34422.89  34422.90  34418.87  34418.88  11.03563\n",
       "27178 2023-10-31 02:15:00  34418.87  34418.88  34416.98  34416.98   2.05760\n",
       "\n",
       "[27179 rows x 6 columns]"
      ]
     },
     "execution_count": 6,
     "metadata": {},
     "output_type": "execute_result"
    }
   ],
   "source": [
    "df"
   ]
  }
 ],
 "metadata": {
  "kernelspec": {
   "display_name": "Python 3 (ipykernel)",
   "language": "python",
   "name": "python3"
  },
  "language_info": {
   "codemirror_mode": {
    "name": "ipython",
    "version": 3
   },
   "file_extension": ".py",
   "mimetype": "text/x-python",
   "name": "python",
   "nbconvert_exporter": "python",
   "pygments_lexer": "ipython3",
   "version": "3.11.0"
  }
 },
 "nbformat": 4,
 "nbformat_minor": 4
}
